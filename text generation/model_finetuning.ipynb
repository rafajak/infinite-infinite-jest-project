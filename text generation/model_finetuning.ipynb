{
  "nbformat": 4,
  "nbformat_minor": 0,
  "metadata": {
    "colab": {
      "name": "model_finetuning.ipynb",
      "provenance": [],
      "private_outputs": true,
      "collapsed_sections": [],
      "machine_shape": "hm"
    },
    "kernelspec": {
      "name": "python3",
      "display_name": "Python 3"
    },
    "accelerator": "TPU"
  },
  "cells": [
    {
      "cell_type": "code",
      "metadata": {
        "id": "hPIgYjBrGffJ",
        "colab_type": "code",
        "colab": {}
      },
      "source": [
        "#Fine-tune GPT-2 on David Foster Wallace's \"Infinite Jest\""
      ],
      "execution_count": 0,
      "outputs": []
    },
    {
      "cell_type": "code",
      "metadata": {
        "id": "MB6aTUI_GhMz",
        "colab_type": "code",
        "colab": {}
      },
      "source": [
        "!pip3 install gpt-2-simple"
      ],
      "execution_count": 0,
      "outputs": []
    },
    {
      "cell_type": "code",
      "metadata": {
        "id": "HzanVEcmFCf5",
        "colab_type": "code",
        "colab": {}
      },
      "source": [
        "import os\n",
        "import requests\n",
        "import gpt_2_simple as gpt2\n",
        "import tensorflow as tf\n",
        "\n",
        "from datetime import datetime\n",
        "from google.colab import drive\n",
        "from google.colab import files"
      ],
      "execution_count": 0,
      "outputs": []
    },
    {
      "cell_type": "code",
      "metadata": {
        "id": "RepPbvEHHd6i",
        "colab_type": "code",
        "colab": {}
      },
      "source": [
        "#Mouting Google Drive - model checkpoints will be cached there \n",
        "drive.mount('/content/drive')"
      ],
      "execution_count": 0,
      "outputs": []
    },
    {
      "cell_type": "code",
      "metadata": {
        "id": "cJvLEmSkiT0D",
        "colab_type": "code",
        "colab": {}
      },
      "source": [
        "from google.colab import drive\n",
        "drive.mount('/content/drive')"
      ],
      "execution_count": 0,
      "outputs": []
    },
    {
      "cell_type": "code",
      "metadata": {
        "id": "YmzdHlJyFaqG",
        "colab_type": "code",
        "colab": {}
      },
      "source": [
        "#Available model sizes:\n",
        "# 124M 355M 774M 1558M\n",
        "\n",
        "model_name = \"1558M\"\n",
        "# if not os.path.isdir(os.path.join(\"models\", model_name)):\n",
        "# \tprint(f\"Downloading {model_name} model...\")\n",
        "# \tgpt2.download_gpt2(model_name=model_name)   # model is saved into the collab VM under /models/{model_name}/"
      ],
      "execution_count": 0,
      "outputs": []
    },
    {
      "cell_type": "code",
      "metadata": {
        "id": "-ao__3d8TJ9e",
        "colab_type": "code",
        "colab": {}
      },
      "source": [
        "CHECKPOINT_DIR = \"/content/drive/My Drive/GPT-2/checkpoints/\"\n"
      ],
      "execution_count": 0,
      "outputs": []
    },
    {
      "cell_type": "code",
      "metadata": {
        "id": "GEhg-XZKPy-J",
        "colab_type": "code",
        "colab": {}
      },
      "source": [
        "finetune_config = {\n",
        "             \"steps\" : 1000,\n",
        "             \"model_name\" : model_name,\n",
        "             \"model_dir\" : 'models',\n",
        "             \"combine\" : 50000,\n",
        "             \"batch_size\" : 1, \n",
        "             \"learning_rate\" : 0.0001,\n",
        "             \"accumulate_gradients\" : 5,\n",
        "             \"restore_from\" : 'latest',\n",
        "             \"run_name\" : 'run1',\n",
        "             \"checkpoint_dir\" : CHECKPOINT_DIR,\n",
        "             \"sample_every\" : 100,\n",
        "             \"sample_length\" : 1023,\n",
        "             \"sample_num\" : 1,\n",
        "             \"multi_gpu\" : False,\n",
        "             \"save_every\" : 20, #CHECKPOINT MODEL EVERY X ITERATIONS\n",
        "             \"print_every\" : 1,\n",
        "             \"max_checkpoints\" : 1\n",
        "}"
      ],
      "execution_count": 0,
      "outputs": []
    },
    {
      "cell_type": "code",
      "metadata": {
        "id": "0nMCTgWwGwmd",
        "colab_type": "code",
        "colab": {}
      },
      "source": [
        "#prep dataset \n",
        "file_name = \"infinite_jest.txt\"\n",
        "if not os.path.isfile(file_name):\n",
        "\turl = \"https://gist.githubusercontent.com/rafajak/2bd212bbd1b3b02f107f05c491892e4d/raw/426e080e61756785703a2b5e8c365972401055ea/infinite_jest.txt\"\n",
        "\tdata = requests.get(url)\n",
        "\t\n",
        "\twith open(file_name, 'w') as f:\n",
        "\t\tf.write(data.text)"
      ],
      "execution_count": 0,
      "outputs": []
    },
    {
      "cell_type": "code",
      "metadata": {
        "id": "MwcjldeTYZX0",
        "colab_type": "code",
        "colab": {}
      },
      "source": [
        "tf.reset_default_graph()\n",
        "sess = gpt2.start_tf_sess()\n",
        "\n",
        "gpt2.finetune(sess,\n",
        "              file_name,\n",
        "              **finetune_config)"
      ],
      "execution_count": 0,
      "outputs": []
    },
    {
      "cell_type": "markdown",
      "metadata": {
        "id": "JpM0bwTN_zBb",
        "colab_type": "text"
      },
      "source": [
        ""
      ]
    }
  ]
}