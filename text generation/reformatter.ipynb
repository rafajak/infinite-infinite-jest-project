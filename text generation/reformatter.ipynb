{
  "nbformat": 4,
  "nbformat_minor": 0,
  "metadata": {
    "colab": {
      "name": "reformatter.ipynb",
      "provenance": [],
      "collapsed_sections": [],
      "toc_visible": true
    },
    "kernelspec": {
      "name": "python3",
      "display_name": "Python 3"
    }
  },
  "cells": [
    {
      "cell_type": "code",
      "metadata": {
        "id": "uWLG38pz-DCB",
        "colab_type": "code",
        "outputId": "f5736a16-96ac-4a74-ae0b-786528b84559",
        "colab": {
          "base_uri": "https://localhost:8080/",
          "height": 36
        }
      },
      "source": [
        "!ls"
      ],
      "execution_count": 0,
      "outputs": [
        {
          "output_type": "stream",
          "text": [
            "sample_data\n"
          ],
          "name": "stdout"
        }
      ]
    },
    {
      "cell_type": "code",
      "metadata": {
        "id": "Gd4Qw0hY-T1w",
        "colab_type": "code",
        "outputId": "2bced88e-3add-406d-f571-7456da6955f9",
        "colab": {
          "base_uri": "https://localhost:8080/",
          "height": 131
        }
      },
      "source": [
        "from google.colab import drive\n",
        "from google.colab import files\n",
        "import numpy as np\n",
        "import string\n",
        "#Mounts google drive\n",
        "import json\n",
        "drive.mount('/content/drive')"
      ],
      "execution_count": 0,
      "outputs": [
        {
          "output_type": "stream",
          "text": [
            "Go to this URL in a browser: https://accounts.google.com/o/oauth2/auth?client_id=947318989803-6bn6qk8qdgf4n4g3pfee6491hc0brc4i.apps.googleusercontent.com&redirect_uri=urn%3aietf%3awg%3aoauth%3a2.0%3aoob&response_type=code&scope=email%20https%3a%2f%2fwww.googleapis.com%2fauth%2fdocs.test%20https%3a%2f%2fwww.googleapis.com%2fauth%2fdrive%20https%3a%2f%2fwww.googleapis.com%2fauth%2fdrive.photos.readonly%20https%3a%2f%2fwww.googleapis.com%2fauth%2fpeopleapi.readonly\n",
            "\n",
            "Enter your authorization code:\n",
            "··········\n",
            "Mounted at /content/drive\n"
          ],
          "name": "stdout"
        }
      ]
    },
    {
      "cell_type": "code",
      "metadata": {
        "id": "wz7QgjfC-dqs",
        "colab_type": "code",
        "outputId": "d9acaeaf-d276-400d-fdb0-8eb639efc0ed",
        "colab": {
          "base_uri": "https://localhost:8080/",
          "height": 36
        }
      },
      "source": [
        "!ls"
      ],
      "execution_count": 0,
      "outputs": [
        {
          "output_type": "stream",
          "text": [
            "drive  sample_data\n"
          ],
          "name": "stdout"
        }
      ]
    },
    {
      "cell_type": "code",
      "metadata": {
        "id": "QFOmpQ2RB1GZ",
        "colab_type": "code",
        "colab": {}
      },
      "source": [
        "SAMPLE_PATH = \"/content/drive/My Drive/GPT-2/generated_outputs/generated_output_1558M.json\"\n",
        "OUTPUT_PATH = \"/content/drive/My Drive/GPT-2/generated_outputs/fixed_output_generated_output_1558M.json\""
      ],
      "execution_count": 0,
      "outputs": []
    },
    {
      "cell_type": "code",
      "metadata": {
        "id": "1BvTjsMtA4nm",
        "colab_type": "code",
        "colab": {}
      },
      "source": [
        "# load json with old parsing\n",
        "# split at newlines\n",
        "# introduce new delimiter \"<[END]>\" every x sequences in the list\n",
        "# split at  \"<[END]>\"\n",
        "# upload to json "
      ],
      "execution_count": 0,
      "outputs": []
    },
    {
      "cell_type": "code",
      "metadata": {
        "id": "uEOwuiGPB0hP",
        "colab_type": "code",
        "colab": {}
      },
      "source": [
        "def read_all_seq_into_str(SAMPLE_PATH: str) -> str:\n",
        "    with open(SAMPLE_PATH) as f:\n",
        "        a = json.load(f)\n",
        "    return \"\".join([line['body'] for line in a])\n",
        "\n",
        "def remove_bad_patterns(text: str) -> str:\n",
        "    data = text\n",
        "\n",
        "    for ch in list(string.ascii_lowercase+string.ascii_uppercase) + [\",\"]:\n",
        "        for n_spaces in range(0,5):\n",
        "            for n_ns in range(1,5):\n",
        "                pattern_match = ch + \" \" * n_spaces + \"\\n\" * n_ns\n",
        "                data = data.replace(pattern_match, ch + \" \")\n",
        "    \n",
        "    multiple_newlines = [\"\\n\"*i for i in range(10,3,-1)] + [\"\\n \\n\"]    \n",
        "    for k in multiple_newlines:\n",
        "        data = data.replace(k,\"\\n\")\n",
        "\n",
        "    return data\n",
        "\n",
        "def apply_new_delimiter(text: str, seq_len_between_splits : int = 10) -> str:\n",
        "    ''' Splits the generated text again with a new delimiter to regulate sequence length ''' \n",
        "    text = text.split(\"\\n\\n\")\n",
        "\n",
        "    for i, line in enumerate(text,0):\n",
        "        if (i % seq_len_between_splits == 0) & (i!=0):\n",
        "            text[i] += \"<[END]>\"\n",
        "    \n",
        "    return text\n",
        "\n",
        "\n",
        "def split_on_the_new_delimiter(text: str) -> list:\n",
        "\n",
        "    return \"\\n\\n\".join(text).split(\"<[END]>\")\n",
        "\n",
        "\n",
        "def dump_to_file(text: list, OUTPUT_PATH=OUTPUT_PATH):\n",
        "    output_dict = {str(i): seq.strip()+'\\n' for i,seq in enumerate(text)}\n",
        "\n",
        "    with open(OUTPUT_PATH, \"w\") as f:\n",
        "        json.dump(output_dict, f, ensure_ascii=True, indent=4)\n",
        "\n",
        "    return output_dict\n",
        "a1 = read_all_seq_into_str(SAMPLE_PATH)\n",
        "a2 = remove_bad_patterns(a1)\n",
        "a3 = apply_new_delimiter(a2)\n",
        "a4 = split_on_the_new_delimiter(a3)\n",
        "output_dict = dump_to_file(a4, OUTPUT_PATH)"
      ],
      "execution_count": 0,
      "outputs": []
    },
    {
      "cell_type": "code",
      "metadata": {
        "id": "qSVdQH9WC-yJ",
        "colab_type": "code",
        "colab": {}
      },
      "source": [
        "# import numpy\n",
        "# import pandas as pd\n",
        "# lengths = pd.Series([len(line) for line in a4])\n",
        "# lengths.describe()    "
      ],
      "execution_count": 0,
      "outputs": []
    },
    {
      "cell_type": "code",
      "metadata": {
        "id": "a96wnyi5ogC9",
        "colab_type": "code",
        "outputId": "9af6202e-c454-4e95-8979-0f95c203bee6",
        "colab": {
          "base_uri": "https://localhost:8080/",
          "height": 56
        }
      },
      "source": [
        "a4[78]"
      ],
      "execution_count": 0,
      "outputs": [
        {
          "output_type": "execute_result",
          "data": {
            "text/plain": [
              "\"\\n\\nThis, then, is the power of the boy who does not pity me. The man in charge at HmH does not pity me. But he doesn't pity me, HmH. He pretends to. This is the power of the boy who does not pity me. This is the power of the boy who does not pity me. This power does not come from weakness or the self-image of weakness. This is the power of the boy who does not pity me. The power of the boy who does not pity me. The power to pity me comes from inside, my child. This power of the boy from outside. From the power of the machine. This power is mine: I have not lost. \\n\\nThere was no power in this boy on whom I lay before HmH, looking down at the bowl of steat. \\nMeat soup. There were voices at the table, low and far, eating without eating, chattering mys of smoke from the air, and I heard the boy who was serving the soup say this soup was good. He had no smile. He was the boy who had power. The boy with power. The power of giving without taking. I hear the boy say I'm sorry, HmH, and I'm sorry, I know. The boy's soup in his hand. The soup is clearly too large for the boy with power. The laden bowl's soup is hot and somehow unpleasant, and my child has made an enormous head. I'm not sure what the boy's soup tasted like, or even if it was soup or something else. I have made clear that I've been unable to have intercourse even since my mother's death. \\n\\nI'd felt something like this, the loss of power, for a long time: as in the difference between a man's power and a boy's power. It was never in the self-image of power that I had felt something like this. \\nThe man with power makes his hand into just such a scoop, he lifts the handle, sans-sauce, and sets down the bowl as he makes the scoop, saying it was good. No one else in the room utters anything but good. The boy with power is never even supposed to look at anybody's bowl until the laden bowls get empty. When he sets down the bowl after the laden bowls are filled. The boy with power looks into the bowl and says he is sorry. Then, without even looking, he starts scooping up debris and tosses the dispersated debris in the air to the room's ceiling and to my room, where I am. \\n\\nThe laden bowls get empty, the boys with clots litter the room with rubble and broken concrete and green garbage bags and shopping bags and the occasional stone. The laden bowls can take anything from a small child to a large adult. There is something grotesquely impressive about a brick being dropped from a height. One of the boys who is laden with debris now starts doing a head-thing as he gathers the dispersated debris in the bowl. He says 'This was the big reveal.' The girl looks over at him like he's reciting something from a book. \\nThe boy does not look down at her. He likes to pat his head in the wind for a moment and look wildly around himself. This stops the girl from thinking anymore. The boy says 'The big reveal was that the reveal was that this was all just made up and not real. You were about the only real person here the whole time.' He is holding his hand out toward her as he says this. 'I am real. As in I am real. It's about me. I am real.' The girl says 'So you're real.' The boy's smile broadens. 'You're just real. A couple days before we left on the last trip here I was real.' He looks back in at the bowl and clears his throat. 'The bowl was real and now this bowl is fake. It's fake to make it real. You are real. You're real.' He holds the hand out like a greeting. 'I'm real.' The girl takes his hand and squeezes his hand with practiced nonchalance. The two exchange some neutral words. The boy starts breathing fast and hard and says 'And by the time you guys walked away you were fake and you were just under the surface of a pond and —' \\nthen he pauses and says 'And then a couple days before we walked away you were real. As in you could tell.' His smile broadens even more. 'And as you said were real this was supposed to be real. As in the bowl was real and this was supposed to be real.' The laden bowls and conveyors are a dark green. 'The boy was real and you were real. It was real and you were real and we both were real.' He looks back. The boy's breathing so hard it's like he can barely feel the air through his mouth. There's something deeply unreal about a boy's breath. The laden bowl's contents look a little hard to pour, but there's still a liquid trickle of juice and soda and a slim coppery smell. The boy says 'So you're real. I have to tell you it's real.' \\nAgain the boy's breath. 'And by the time we left there was supposed to be nothing but a bowl of pudding in there was supposed to be nothing but a bowl of pudding in there instead. All these were real.' The girl looks to the floor. 'I remember I was in pain.' The boy is nodding down at her. 'I've been in an enormous pain. The pain's real, boy.' He doesn't even have to look at her. She's real. \\n\\nShe paces nervously at the foot of the bed, then goes slower when she gets a little farther. 'I know. You know. Believe me.' 'I know.' The boy's breath is like it's meant to scare you. 'I know. We've been through this kind of pain before you were even born. It gets harder every day. No matter how hard you try you can't stop. You can come here and try right now. You're not going anywhere. No matter what you do you still can't stop. For now you're stuck, you're stuck with yourself. As in you're stuck trying to be something you're not. You're stuck trying to live up to somebody's image of you. It starts with just this idea of you, you're stuck with your image of me. It'll never go away. This idea of me. You're stuck with it. No matter what you do you'll end up with me. It'll never go away. In a couple years it'll be me you're stuck with, Jim. You're stuck with this image of me. Do you know what I'm saying? It'll never go away. It'll never go away.' \\n\\n'Jim, you're stuck with me. No matter what you do. I know. I've been through this before you were even born, Jim. Am I right? I'm not going anywhere. I'm not leaving. I'm not giving up. I know it. The pain's just a sensation. I think it's time for you to give up, Jim. Time for you to give up. You're stuck. You're stuck with me, Jim. We're stuck with you. And you're stuck with me. And if you give me up I'll take you somewhere else. I promise. It won't be like this, Jim. You won't go anywhere because of me. I promise. Am I a good guy? I'm not a fucking good guy. But that's not the point. The point is you won't even get up and leave. You have to know it to give it up. You have to give it up. You have to surrender. Give it up. You can't go it alone. The whole idea of surrendering leads to you liking it. You have to like it, and there's something about like surrender that —' \\n\\n'I know.' \\n\\n'I don't get you, Hal. I know you're not like that. But you're not. You won't ever surrender. Not ever. You're not going anywhere.' \\n\\n'I'm going to start calling you Hal instead. Orin, if you prefer. I know what you're saying, Hal. You're not going anywhere. You're stuck. You're like a fucking stone. And so is this love of a person, Jim. You don't sound like you. You sound fucking Scrubber. You sound like the people you're going to love, in a few years, and they'll disappear. A stone. You're going to be able to disappear like this, I know, because you'll have the Stone. With us. With your family. You won't ever get it off. Not ever. \\nNobody gets the Stone except me and Jim. Not ever. You can't get it off, Jim. No matter how many years you've got. No matter how many people you've fucked, or how many wives you've got. It's bound to happen to you. It's a natural consequence. It's a consequence of what they're all here for. They're here to fuck. Most of them are. It's not like they don't care what you think. They just know how to fuck with you. For me, Jim. Jim, Jim, Jim. For me, Jim. Do you understand? What Jim means, do you get it, Jim. Jim, they'll give you what they know. I'm not a fucking hypocrite. I'm not a fucking hypocrite. You don't think I don't know. What I know. Do you understand? You don't think I don't know. Because I know. \\n\\nJim, it's okay. Not okay. And remember. Jim, I don't know a damn thing about you. The kind of lie where I can go out there and tell you a story about all the different lies I've ever been a part of. \\nAnd Jim, I don't know you. You're not like that, Jim. You're not like that. You're one of that. You know what I'm saying? If the truth of the matter is you. You're a lie, Jim. And I know. \\nYou're one of those guys you can't help being a lie to. I've seen it play out. \\nOne of those guys who knows he's a lie and yet he still carries it out. \\nYou know what I mean? And I get what I mean? So what if I were to ask you what your problem is. You know what I mean? You have what. I'm serious. You have a problem, Jim. \\nYou have a problem. Because I'm giving you what I know. I know you don't think I know. You can't help. If you want to go ahead and ask. I won't judge. I won't say a word to you about it. You can tell me what to think. I'm just giving you what you're getting out of it. I've been giving you what you want. And you just want to go ahead and ask. You want to ask what I know. You're going to be the Judge. I know what you're going to do. I can feel it. I predicted it. Why don't you ask? Why don't you ask? \\nJim, I know. I bet you can't help. Why don't you ask? Why don't you ask? Because you can. \\nJim. Jim, I know. I've been giving you what you want. What you want in here is what I gave you. And you're gonna be the one person who can help. Don Gately, Jim. Don Gately, you're gonna be the first person to know if I'm telling the truth or not. I know you don't get it. I know what you want. It's what I gave you. You can't shake me down now, Jim. I mean it's what you gave me. The Judge's a lie. He made his bed. He's waiting to hear your response when he puts the thing in front of you. He has a big smile. He's smiling like you. It's what he was born to do. He's just so happy they let him finish what he started. He used to be able to look at me and tell that I was beautiful in my disguise. I used to be able to look at him and know we were the two people here tonight together. And what he calls me: you. You are the Jury. He calls you the Jury. He uses your image as his own. He's sitting in the chair because he's going to get up and ask somebody else to try and sedate Nell Gunther. This is also off the record. The Jury can be anybody — it's just a matter of power and security and who has the balls to actually enter that courtroom and walk around with that kind of walkabout. A female juror has her little pet piggy in her hood. The Fourier's trichotomic nature is that what you're looking at is just what they are looking at you and what they're looking at. He always describes it as like he can have her right by herself in the chair whenever he wants and be able to just pet her neck and tell her she's beautiful. She's not walking away. She's still staring into her tiny pet piggy's brain and holding her breath. The Piggy look is one of that awkward dead stare. Power thinks it's powerlessness, that it's the powerlessness of a female juror that's making the dead stare. The powerlessness of the power on the Juror's part is what disables it from making the stare and making the morgue-picture. I'm trying to explain the whole process. The Jury is the jury of America. He thinks himself a witness and just sits there. I tell him you can be a witness, too. He'll be sitting there, too. He looks at me, waiting, stupid. He thinks he's an eyewitness. He was just in on it. He says he saw C.T. \\nblow Colly Hill's head up and then let Colly Hill die, which I can remember is true, from the look, because he tells me so. Plus, he says he didn't see Michael Pemulis and Axford kill him. He says he didn't know. He says he doesn't know anything else. I can't even go past this. The whole thing just plain makes you feel physically calm and clean. Plus, you get to be the judge. You're supposed to be the junior. You're supposed to be sort of the adult in charge. It's supposed to be you and Axford and Michael Pemulis and Trevor Axford. The one who could imagine the kid's head as the big soft one. The one they all all think's got the emotional juice. For the record, it doesn't look like that. It's not like they think he's going to be able to take a drink from a pack of Fizzy. If he gets a drink, he'll probably have a stroke. The Moms feels he's got plenty of time to think on this. He'll think he drank enough. He'll do what he needs to do to get sober. I know it. He's got no emotional juice left, I know this. If you gave him twenty years, he'd quit. He loves it so much he can't even quit. \""
            ]
          },
          "metadata": {
            "tags": []
          },
          "execution_count": 8
        }
      ]
    },
    {
      "cell_type": "code",
      "metadata": {
        "id": "RLHxL7GdpxyM",
        "colab_type": "code",
        "outputId": "a096e3b9-9329-48c1-e65d-cafc07486aaa",
        "colab": {
          "base_uri": "https://localhost:8080/",
          "height": 56
        }
      },
      "source": [
        "output_dict[\"78\"]"
      ],
      "execution_count": 0,
      "outputs": [
        {
          "output_type": "execute_result",
          "data": {
            "text/plain": [
              "\"This, then, is the power of the boy who does not pity me. The man in charge at HmH does not pity me. But he doesn't pity me, HmH. He pretends to. This is the power of the boy who does not pity me. This is the power of the boy who does not pity me. This power does not come from weakness or the self-image of weakness. This is the power of the boy who does not pity me. The power of the boy who does not pity me. The power to pity me comes from inside, my child. This power of the boy from outside. From the power of the machine. This power is mine: I have not lost. \\n\\nThere was no power in this boy on whom I lay before HmH, looking down at the bowl of steat. \\nMeat soup. There were voices at the table, low and far, eating without eating, chattering mys of smoke from the air, and I heard the boy who was serving the soup say this soup was good. He had no smile. He was the boy who had power. The boy with power. The power of giving without taking. I hear the boy say I'm sorry, HmH, and I'm sorry, I know. The boy's soup in his hand. The soup is clearly too large for the boy with power. The laden bowl's soup is hot and somehow unpleasant, and my child has made an enormous head. I'm not sure what the boy's soup tasted like, or even if it was soup or something else. I have made clear that I've been unable to have intercourse even since my mother's death. \\n\\nI'd felt something like this, the loss of power, for a long time: as in the difference between a man's power and a boy's power. It was never in the self-image of power that I had felt something like this. \\nThe man with power makes his hand into just such a scoop, he lifts the handle, sans-sauce, and sets down the bowl as he makes the scoop, saying it was good. No one else in the room utters anything but good. The boy with power is never even supposed to look at anybody's bowl until the laden bowls get empty. When he sets down the bowl after the laden bowls are filled. The boy with power looks into the bowl and says he is sorry. Then, without even looking, he starts scooping up debris and tosses the dispersated debris in the air to the room's ceiling and to my room, where I am. \\n\\nThe laden bowls get empty, the boys with clots litter the room with rubble and broken concrete and green garbage bags and shopping bags and the occasional stone. The laden bowls can take anything from a small child to a large adult. There is something grotesquely impressive about a brick being dropped from a height. One of the boys who is laden with debris now starts doing a head-thing as he gathers the dispersated debris in the bowl. He says 'This was the big reveal.' The girl looks over at him like he's reciting something from a book. \\nThe boy does not look down at her. He likes to pat his head in the wind for a moment and look wildly around himself. This stops the girl from thinking anymore. The boy says 'The big reveal was that the reveal was that this was all just made up and not real. You were about the only real person here the whole time.' He is holding his hand out toward her as he says this. 'I am real. As in I am real. It's about me. I am real.' The girl says 'So you're real.' The boy's smile broadens. 'You're just real. A couple days before we left on the last trip here I was real.' He looks back in at the bowl and clears his throat. 'The bowl was real and now this bowl is fake. It's fake to make it real. You are real. You're real.' He holds the hand out like a greeting. 'I'm real.' The girl takes his hand and squeezes his hand with practiced nonchalance. The two exchange some neutral words. The boy starts breathing fast and hard and says 'And by the time you guys walked away you were fake and you were just under the surface of a pond and —' \\nthen he pauses and says 'And then a couple days before we walked away you were real. As in you could tell.' His smile broadens even more. 'And as you said were real this was supposed to be real. As in the bowl was real and this was supposed to be real.' The laden bowls and conveyors are a dark green. 'The boy was real and you were real. It was real and you were real and we both were real.' He looks back. The boy's breathing so hard it's like he can barely feel the air through his mouth. There's something deeply unreal about a boy's breath. The laden bowl's contents look a little hard to pour, but there's still a liquid trickle of juice and soda and a slim coppery smell. The boy says 'So you're real. I have to tell you it's real.' \\nAgain the boy's breath. 'And by the time we left there was supposed to be nothing but a bowl of pudding in there was supposed to be nothing but a bowl of pudding in there instead. All these were real.' The girl looks to the floor. 'I remember I was in pain.' The boy is nodding down at her. 'I've been in an enormous pain. The pain's real, boy.' He doesn't even have to look at her. She's real. \\n\\nShe paces nervously at the foot of the bed, then goes slower when she gets a little farther. 'I know. You know. Believe me.' 'I know.' The boy's breath is like it's meant to scare you. 'I know. We've been through this kind of pain before you were even born. It gets harder every day. No matter how hard you try you can't stop. You can come here and try right now. You're not going anywhere. No matter what you do you still can't stop. For now you're stuck, you're stuck with yourself. As in you're stuck trying to be something you're not. You're stuck trying to live up to somebody's image of you. It starts with just this idea of you, you're stuck with your image of me. It'll never go away. This idea of me. You're stuck with it. No matter what you do you'll end up with me. It'll never go away. In a couple years it'll be me you're stuck with, Jim. You're stuck with this image of me. Do you know what I'm saying? It'll never go away. It'll never go away.' \\n\\n'Jim, you're stuck with me. No matter what you do. I know. I've been through this before you were even born, Jim. Am I right? I'm not going anywhere. I'm not leaving. I'm not giving up. I know it. The pain's just a sensation. I think it's time for you to give up, Jim. Time for you to give up. You're stuck. You're stuck with me, Jim. We're stuck with you. And you're stuck with me. And if you give me up I'll take you somewhere else. I promise. It won't be like this, Jim. You won't go anywhere because of me. I promise. Am I a good guy? I'm not a fucking good guy. But that's not the point. The point is you won't even get up and leave. You have to know it to give it up. You have to give it up. You have to surrender. Give it up. You can't go it alone. The whole idea of surrendering leads to you liking it. You have to like it, and there's something about like surrender that —' \\n\\n'I know.' \\n\\n'I don't get you, Hal. I know you're not like that. But you're not. You won't ever surrender. Not ever. You're not going anywhere.' \\n\\n'I'm going to start calling you Hal instead. Orin, if you prefer. I know what you're saying, Hal. You're not going anywhere. You're stuck. You're like a fucking stone. And so is this love of a person, Jim. You don't sound like you. You sound fucking Scrubber. You sound like the people you're going to love, in a few years, and they'll disappear. A stone. You're going to be able to disappear like this, I know, because you'll have the Stone. With us. With your family. You won't ever get it off. Not ever. \\nNobody gets the Stone except me and Jim. Not ever. You can't get it off, Jim. No matter how many years you've got. No matter how many people you've fucked, or how many wives you've got. It's bound to happen to you. It's a natural consequence. It's a consequence of what they're all here for. They're here to fuck. Most of them are. It's not like they don't care what you think. They just know how to fuck with you. For me, Jim. Jim, Jim, Jim. For me, Jim. Do you understand? What Jim means, do you get it, Jim. Jim, they'll give you what they know. I'm not a fucking hypocrite. I'm not a fucking hypocrite. You don't think I don't know. What I know. Do you understand? You don't think I don't know. Because I know. \\n\\nJim, it's okay. Not okay. And remember. Jim, I don't know a damn thing about you. The kind of lie where I can go out there and tell you a story about all the different lies I've ever been a part of. \\nAnd Jim, I don't know you. You're not like that, Jim. You're not like that. You're one of that. You know what I'm saying? If the truth of the matter is you. You're a lie, Jim. And I know. \\nYou're one of those guys you can't help being a lie to. I've seen it play out. \\nOne of those guys who knows he's a lie and yet he still carries it out. \\nYou know what I mean? And I get what I mean? So what if I were to ask you what your problem is. You know what I mean? You have what. I'm serious. You have a problem, Jim. \\nYou have a problem. Because I'm giving you what I know. I know you don't think I know. You can't help. If you want to go ahead and ask. I won't judge. I won't say a word to you about it. You can tell me what to think. I'm just giving you what you're getting out of it. I've been giving you what you want. And you just want to go ahead and ask. You want to ask what I know. You're going to be the Judge. I know what you're going to do. I can feel it. I predicted it. Why don't you ask? Why don't you ask? \\nJim, I know. I bet you can't help. Why don't you ask? Why don't you ask? Because you can. \\nJim. Jim, I know. I've been giving you what you want. What you want in here is what I gave you. And you're gonna be the one person who can help. Don Gately, Jim. Don Gately, you're gonna be the first person to know if I'm telling the truth or not. I know you don't get it. I know what you want. It's what I gave you. You can't shake me down now, Jim. I mean it's what you gave me. The Judge's a lie. He made his bed. He's waiting to hear your response when he puts the thing in front of you. He has a big smile. He's smiling like you. It's what he was born to do. He's just so happy they let him finish what he started. He used to be able to look at me and tell that I was beautiful in my disguise. I used to be able to look at him and know we were the two people here tonight together. And what he calls me: you. You are the Jury. He calls you the Jury. He uses your image as his own. He's sitting in the chair because he's going to get up and ask somebody else to try and sedate Nell Gunther. This is also off the record. The Jury can be anybody — it's just a matter of power and security and who has the balls to actually enter that courtroom and walk around with that kind of walkabout. A female juror has her little pet piggy in her hood. The Fourier's trichotomic nature is that what you're looking at is just what they are looking at you and what they're looking at. He always describes it as like he can have her right by herself in the chair whenever he wants and be able to just pet her neck and tell her she's beautiful. She's not walking away. She's still staring into her tiny pet piggy's brain and holding her breath. The Piggy look is one of that awkward dead stare. Power thinks it's powerlessness, that it's the powerlessness of a female juror that's making the dead stare. The powerlessness of the power on the Juror's part is what disables it from making the stare and making the morgue-picture. I'm trying to explain the whole process. The Jury is the jury of America. He thinks himself a witness and just sits there. I tell him you can be a witness, too. He'll be sitting there, too. He looks at me, waiting, stupid. He thinks he's an eyewitness. He was just in on it. He says he saw C.T. \\nblow Colly Hill's head up and then let Colly Hill die, which I can remember is true, from the look, because he tells me so. Plus, he says he didn't see Michael Pemulis and Axford kill him. He says he didn't know. He says he doesn't know anything else. I can't even go past this. The whole thing just plain makes you feel physically calm and clean. Plus, you get to be the judge. You're supposed to be the junior. You're supposed to be sort of the adult in charge. It's supposed to be you and Axford and Michael Pemulis and Trevor Axford. The one who could imagine the kid's head as the big soft one. The one they all all think's got the emotional juice. For the record, it doesn't look like that. It's not like they think he's going to be able to take a drink from a pack of Fizzy. If he gets a drink, he'll probably have a stroke. The Moms feels he's got plenty of time to think on this. He'll think he drank enough. He'll do what he needs to do to get sober. I know it. He's got no emotional juice left, I know this. If you gave him twenty years, he'd quit. He loves it so much he can't even quit.\\n\""
            ]
          },
          "metadata": {
            "tags": []
          },
          "execution_count": 9
        }
      ]
    },
    {
      "cell_type": "code",
      "metadata": {
        "id": "7OYlS2oeqXMq",
        "colab_type": "code",
        "colab": {}
      },
      "source": [
        ""
      ],
      "execution_count": 0,
      "outputs": []
    }
  ]
}